{
 "cells": [
  {
   "cell_type": "code",
   "execution_count": 3,
   "metadata": {},
   "outputs": [],
   "source": [
    "import anndata as ad\n",
    "import pandas as pd\n",
    "import os"
   ]
  },
  {
   "cell_type": "code",
   "execution_count": 14,
   "metadata": {},
   "outputs": [
    {
     "data": {
      "text/plain": [
       "{'GSM8242944_UMC-WM-s002_H3CM5BGXM_S2_R2.ReadCounts.tsv': AnnData object with n_obs × n_vars = 384 × 14818,\n",
       " 'GSM8242952_UMC-WM-s012_H3CM5BGXM_S10_R2.ReadCounts.tsv': AnnData object with n_obs × n_vars = 384 × 12817,\n",
       " 'GSM8242946_UMC-WM-s004_H3CM5BGXM_S4_R2.ReadCounts.tsv': AnnData object with n_obs × n_vars = 384 × 14004,\n",
       " 'GSM8242954_UMC-WM-s014_H3GLJBGXM_S2_R2.ReadCounts.tsv': AnnData object with n_obs × n_vars = 384 × 15572,\n",
       " 'GSM8242955_UMC-WM-s015_H3CM5BGXM_S11_R2.ReadCounts.tsv': AnnData object with n_obs × n_vars = 384 × 15381,\n",
       " 'GSM8242949_UMC-WM-s009_H3CM5BGXM_S7_R2.ReadCounts.tsv': AnnData object with n_obs × n_vars = 384 × 14509,\n",
       " 'GSM8242948_UMC-WM-s008_H3CM5BGXM_S6_R2.ReadCounts.tsv': AnnData object with n_obs × n_vars = 384 × 14158,\n",
       " 'GSM8242953_UMC-WM-s013_H3GLJBGXM_S1_R2.ReadCounts.tsv': AnnData object with n_obs × n_vars = 384 × 14500,\n",
       " 'GSM8242943_UMC-WM-s001_H3CM5BGXM_S1_R2.ReadCounts.tsv': AnnData object with n_obs × n_vars = 384 × 14528,\n",
       " 'GSM8242951_UMC-WM-s011_H3CM5BGXM_S9_R2.ReadCounts.tsv': AnnData object with n_obs × n_vars = 384 × 12732,\n",
       " 'GSM8242947_UMC-WM-s007_H3CM5BGXM_S5_R2.ReadCounts.tsv': AnnData object with n_obs × n_vars = 384 × 14758,\n",
       " 'GSM8242950_UMC-WM-s010_H3CM5BGXM_S8_R2.ReadCounts.tsv': AnnData object with n_obs × n_vars = 384 × 13636,\n",
       " 'GSM8242945_UMC-WM-s003_H3CM5BGXM_S3_R2.ReadCounts.tsv': AnnData object with n_obs × n_vars = 384 × 14436}"
      ]
     },
     "execution_count": 14,
     "metadata": {},
     "output_type": "execute_result"
    }
   ],
   "source": [
    "directory = 'datasets/Tamminga'\n",
    "adatas = {\n",
    "    file:\n",
    "    ad.AnnData(pd.read_csv(os.path.join(directory, file), sep=\"\\t\", index_col=0).T) \n",
    "       for file in os.listdir(directory) if file.endswith('.ReadCounts.tsv')}\n",
    "adatas"
   ]
  },
  {
   "cell_type": "code",
   "execution_count": null,
   "metadata": {},
   "outputs": [],
   "source": []
  }
 ],
 "metadata": {
  "kernelspec": {
   "display_name": "single-cell",
   "language": "python",
   "name": "python3"
  },
  "language_info": {
   "codemirror_mode": {
    "name": "ipython",
    "version": 3
   },
   "file_extension": ".py",
   "mimetype": "text/x-python",
   "name": "python",
   "nbconvert_exporter": "python",
   "pygments_lexer": "ipython3",
   "version": "3.12.3"
  }
 },
 "nbformat": 4,
 "nbformat_minor": 2
}
